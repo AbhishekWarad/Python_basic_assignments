{
 "cells": [
  {
   "cell_type": "markdown",
   "id": "07234483",
   "metadata": {},
   "source": [
    "1. Why are functions advantageous to have in your programs?\n",
    "Ans  -  They are beneficial because they help you keep your code organized, save time by reusing code, and make your program easier to read and understand. With functions, you can do many useful things in Python without writing everything from scratch.\n",
    "\n",
    "2. When does the code in a function run: when it's specified or when it's called?\n",
    "Ans - When it is called and the required arguments are passed.\n",
    "\n",
    "3. What statement creates a function?\n",
    "Ans - def is used to define a function\n",
    "        syntax - def funcyion_name():\n",
    "        \n",
    "4. What is the difference between a function and a function call?\n",
    "Ans - function contains the code that is needed to be executed on the hand function call is used to call the function to execute the code present inside it whenever it is needed.\n",
    "\n",
    "5. How many global scopes are there in a Python program? How many local scopes?\n",
    "In a Python program, there is only one global scope, and it exists throughout the entire program's execution. The global scope is the top-level scope, outside of any function or class definition. Variables defined in the global scope can be accessed from any part of the program.On the other hand, local scopes can be numerous, and they are created whenever a function is called.\n",
    "\n",
    "6. What happens to variables in a local scope when the function call returns?\n",
    "Ans - When a function call returns in Python, the local scope created during the function's execution is destroyed.\n",
    "\n",
    "7. What is the concept of a return value? Is it possible to have a return value in an expression?\n",
    "Ans - Refers to the value that a function sends back to the caller after it has executed. And yes,it is possible to have a return in an expression\n",
    "ex - \n",
    "def square(x):\n",
    "    return x * x\n",
    "\n",
    "result = square(5) + square(3)\n",
    "print(\"The sum of squares is:\", result)\n",
    "\n",
    "8. If a function does not have a return statement, what is the return value of a call to that function?\n",
    "Ans - it return None .\n",
    "\n",
    "\n",
    "9. How do you make a function variable refer to the global variable?\n",
    "Ans - by using global keyword\n",
    "\n",
    "10. What is the data type of None?\n",
    "Ans - NoneType\n",
    "\n",
    "11. What does the sentence import areallyourpetsnamederic do?\n",
    "Ans - error - ModuleNotFound\n",
    "\n",
    "12. If you had a bacon() feature in a spam module, what would you call it after importing spam?\n",
    "Ans - spam.becon()\n",
    "\n",
    "13. What can you do to save a programme from crashing if it encounters an error?\n",
    "Ans - i'll use execption handling blocks such as try,except and finally block.\n",
    "\n",
    "14. What is the purpose of the try clause? What is the purpose of the except clause?\n",
    "Ans - The purpose of the try clause is to attempt to execute code that may raise exceptions, while the purpose of the except clause is to handle specific types of exceptions and provide appropriate actions or error messages in response.\n",
    "\n"
   ]
  }
 ],
 "metadata": {
  "kernelspec": {
   "display_name": "Python 3 (ipykernel)",
   "language": "python",
   "name": "python3"
  },
  "language_info": {
   "codemirror_mode": {
    "name": "ipython",
    "version": 3
   },
   "file_extension": ".py",
   "mimetype": "text/x-python",
   "name": "python",
   "nbconvert_exporter": "python",
   "pygments_lexer": "ipython3",
   "version": "3.10.9"
  }
 },
 "nbformat": 4,
 "nbformat_minor": 5
}
