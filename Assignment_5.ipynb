{
 "cells": [
  {
   "cell_type": "markdown",
   "id": "bf24ad1b",
   "metadata": {},
   "source": [
    "1. What does an empty dictionary's code look like?\n",
    "Ans - dist = {}\n",
    "\n",
    "2. What is the value of a dictionary value with the key 'foo' and the value 42?\n",
    "Ans -   dist = {'foo' : 42}\n",
    "        dist['foo']\n",
    "        \n",
    "3. What is the most significant distinction between a dictionary and a list?\n",
    "Ans - dictionary stores in key value pair and flower brackets are used for encloser while on the other hand lists are enclosed in common bractes. lists can be assessed using index values while in dictionarys values can be accessed using its key\n",
    "        ex1 - ex_dist = {'key' : value , 'key2' : 'value2', 'key_n' : 'value_n'}\n",
    "             ex_dist['key2] #output - value2\n",
    "        ex2 - ex_list = [1,2,3,4,\"abhi\"]\n",
    "              ex_list[3] #output - abhi\n",
    "      \n",
    "        \n",
    "     \n",
    "4. What happens if you try to access spam['foo'] if spam is {'bar': 100}?\n",
    "Ans - keyerror\n",
    "\n",
    "5. If a dictionary is stored in spam, what is the difference between the expressions 'cat' in spam and 'cat' in spam.keys()?\n",
    "Ans - Both expressions essentially serve the same purpose when checking for the existence of a key in the dictionary. However, using 'cat' in spam is generally more concise and efficient, as it directly checks the presence of the key in the dictionary, without the need to create an intermediate view object with spam.keys().\n",
    "\n",
    "6. If a dictionary is stored in spam, what is the difference between the expressions 'cat' in spam and 'cat' in spam.values()?\n",
    "Ans - Both expressions are used to check for the presence of a key or a value in the dictionary. Use 'cat' in spam when you want to check for a specific key, and use 'cat' in spam.values() when you want to check for a specific value.\n",
    "\n",
    "7. What is a shortcut for the following code?\n",
    "if 'color' not in spam:\n",
    "spam['color'] = 'black'\n",
    "Ans - spam.setdefault('color','black')\n",
    "\n",
    "8. How do you \"pretty print\" dictionary values using which module and function?\n",
    "Ans - \n",
    "import pprint\n",
    "\n",
    "my_dict = {'name': 'John', 'age': 30, 'city': 'New York'}\n",
    "\n",
    "pprint.pprint(my_dict)\n"
   ]
  }
 ],
 "metadata": {
  "kernelspec": {
   "display_name": "Python 3 (ipykernel)",
   "language": "python",
   "name": "python3"
  },
  "language_info": {
   "codemirror_mode": {
    "name": "ipython",
    "version": 3
   },
   "file_extension": ".py",
   "mimetype": "text/x-python",
   "name": "python",
   "nbconvert_exporter": "python",
   "pygments_lexer": "ipython3",
   "version": "3.10.9"
  }
 },
 "nbformat": 4,
 "nbformat_minor": 5
}
