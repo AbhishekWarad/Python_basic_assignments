{
 "cells": [
  {
   "cell_type": "markdown",
   "id": "6bf6f906",
   "metadata": {},
   "source": [
    "\n",
    "\n",
    "1. In the below elements which of them are values or an expression? eg:- values can be integer or string and expressions will be mathematical operators.\n",
    "    * : expression\n",
    "    'hello' : values\n",
    "    -87.8 : values\n",
    "    - : expression\n",
    "    / : expression\n",
    "    + : expression\t\n",
    "    6 : values\n",
    "\n",
    "2. What is the difference between string and variable?\n",
    "Ans: String - it's one of the datatype in python which imply that it contains letters which are enclosed in single or double    qoutation.\n",
    "    ex - \"abhishek\" , \"is\",'stupid' .\n",
    "    Variable - Variable is a name given to data using \"=\" symbol,so that it can be accesed by calling its variable name.\n",
    "    ex - a = \"abhishek is not so stupid after all\"\n",
    "     Here a is a variable.\n",
    "    \n",
    "\n",
    "3. Describe three different data types.\n",
    "Ans : There are several datatypes in python, here are 3 different data types\n",
    "    1. Numeric Data type - it contains several data types such as \n",
    "        a.int - which holds integers \n",
    "                ex - a = 6\n",
    "        b.float - which holds floating point or we can say decimal values.\n",
    "                ex - a = 6.9\n",
    "    2. String Data type - it's one of the datatype in python which imply that it contains letters which are enclosed in single         or double    qoutation.\n",
    "         ex - \"abhishek\" , \"is\",'stupid' .\n",
    "     3. list - it is used store multiple items in single variable.list is mutable\n",
    "         ex - list_ex = [1,2,3,4]\n",
    "\n",
    "4. What is an expression made up of? What do all expressions do?\n",
    "Ans : An expression is a combination of values, variables, operators, and calls to functions. which will be executed by python interpreter and following output will be displayed.\n",
    "\n",
    "5. This assignment statements, like spam = 10. What is the difference between an expression and a statement?\n",
    "Ans:Expression - An expression is a combination of one or more values, variables, operators, and function calls that can be evaluated to produce a single value.\n",
    "Statement - A statement is a complete line of code or a set of instructions that perform some action or control the flow of the program. It is a fundamental unit of execution in a program.\n",
    "6. After running the following code, what does the variable bacon contain?\n",
    "    bacon = 22\n",
    "    bacon + 1\n",
    "Ans : 3\n",
    "7. What should the values of the following two terms be?\n",
    "'spam' + 'spamspam'\n",
    "'spam' * 3\n",
    "Ams: spamspamspam.\n",
    "\n",
    "8. Why is eggs a valid variable name while 100 is invalid?\n",
    "Ans : Variables starting with numberic values are invalid.Variable names have naming rules: they can't start with digits, only letters or underscores. \n",
    "9. What three functions can be used to get the integer, floating-point number, or string version of a value?\n",
    "Ans : Integer - int()\n",
    "      floating-point - float()\n",
    "      string - str()\n",
    "10. Why does this expression cause an error? How can you fix it?\n",
    "    'I have eaten ' + 99 + ' burritos.'\n",
    "Ans : Because concatination can only done between same dataype.\n",
    "    Fix : 'I have eaten ' + '99' + ' burritos.'\n",
    "\n"
   ]
  }
 ],
 "metadata": {
  "kernelspec": {
   "display_name": "Python 3 (ipykernel)",
   "language": "python",
   "name": "python3"
  },
  "language_info": {
   "codemirror_mode": {
    "name": "ipython",
    "version": 3
   },
   "file_extension": ".py",
   "mimetype": "text/x-python",
   "name": "python",
   "nbconvert_exporter": "python",
   "pygments_lexer": "ipython3",
   "version": "3.10.9"
  }
 },
 "nbformat": 4,
 "nbformat_minor": 5
}
